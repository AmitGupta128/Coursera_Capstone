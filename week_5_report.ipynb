{
 "cells": [
  {
   "cell_type": "markdown",
   "metadata": {},
   "source": [
    "# Battle of the Neighborhood"
   ]
  },
  {
   "cell_type": "markdown",
   "metadata": {},
   "source": [
    "## Introduction"
   ]
  },
  {
   "cell_type": "markdown",
   "metadata": {},
   "source": [
    "The goal of the project is to see which location is ideal to open a new restaurant in the city of Toronto. We have to keep in mind about various things such as competitors, population of the city and economical matters."
   ]
  },
  {
   "cell_type": "markdown",
   "metadata": {},
   "source": [
    "## Business Problem"
   ]
  },
  {
   "cell_type": "markdown",
   "metadata": {},
   "source": [
    "Toronto is the provincial capital of Ontario and the most populous city in Canada, with a population of 2,731,571 in 2016. Current to 2016, the Toronto census metropolitan area (CMA), of which the majority is within the Greater Toronto Area (GTA), held a population of 5,928,040, making it Canada's most populous CMA. Toronto is the fastest growing city in North America. and is the anchor of an urban agglomeration, known as the Golden Horseshoe in Southern Ontario, located on the northwestern shore of Lake Ontario.\n",
    "\n",
    "Toronto encompasses a geographical area formerly administered by many separate municipalities. These municipalities have each developed a distinct history and identity over the years, and their names remain in common use among Torontonians. Former municipalities include East York, Etobicoke, Forest Hill, Mimico, North York, Parkdale, Scarborough, Swansea, Weston and York. Throughout the city there exist hundreds of small neighbourhoods and some larger neighbourhoods covering a few square kilometres.\n",
    "\n",
    "Having such vast population and big geographical area, naturally there is a huge competition between businesses. Hence it is very difficult for new businesses to open in the area to get higher revenue with lowest possible competition.\n",
    "\n",
    "**Target Audience:** New business owners who want to open a new restaurant in the city of Toronto.\n",
    "\n",
    "The aim of the project is to recommend which might be the best locality for new business owners to open a new restaurant so that they can turn a profit with low competition risk."
   ]
  },
  {
   "cell_type": "markdown",
   "metadata": {},
   "source": [
    "## Data"
   ]
  },
  {
   "cell_type": "markdown",
   "metadata": {},
   "source": [
    "In this project we will be exploring Toronto city's data. \n",
    "\n",
    "We will be trying to find an ideal location for a new business owner to open a restaurant and for them to have more income with less worries of competition.\n",
    "\n",
    "For the analysis and the project, I will be using the data from **Wikipedia**. The wikipedia page consists a **List of postal code of Canada: M**. This is a list of postal codes in Canada where the first letter is M. Postal codes beginning with M are located within the city of Toronto in the province of Ontario. Only the first three characters are listed, corresponding to the Forward Sortation Area. \n",
    "City of Toronto Neighbourhood Profiles use this Census data to provide a portrait of the demographic, social and economic characteristics of the people and households in each City of Toronto neighbourhood.\n",
    "Here is the link for the same:\n",
    "\n",
    "Link: https://en.wikipedia.org/wiki/List_of_postal_codes_of_Canada:_M\n",
    "\n",
    "We will also be using **Foursquare data** to get information about restaurants in Toronto. For this we will be fetching the data using the foursquare api for which we will be needing the following details:\n",
    "\n",
    "1) Client Id\n",
    "\n",
    "2) Client Secret Key\n",
    "\n",
    "3) Version\n",
    "\n",
    "4) Latitude\n",
    "\n",
    "5) Longitude\n",
    "\n",
    "6) Radius\n",
    "\n",
    "7) Limit\n"
   ]
  },
  {
   "cell_type": "markdown",
   "metadata": {},
   "source": [
    "## Methodology"
   ]
  },
  {
   "cell_type": "markdown",
   "metadata": {},
   "source": [
    "The main aim of this project is to find the best location to open a new restaurant for new business owners and stakeholders. For this project, we have used \"K-means clustering algorithm\".\n",
    "K-means clustering is a type of unsupervised learning, which is used when you have unlabeled data (i.e., data without defined categories or groups). The goal of this algorithm is to find groups in the data, with the number of groups represented by the variable K. The algorithm works iteratively to assign each data point to one of K groups based on the features that are provided. Data points are clustered based on feature similarity.\n",
    "\n",
    "The following is the breakdown of what we have done in the project.\n",
    "\n",
    "#### **Analysis**"
   ]
  },
  {
   "cell_type": "markdown",
   "metadata": {},
   "source": [
    "**Data capturing and cleaning**\n",
    "\n",
    "In this step we capture the data from the wikipedia page of \"List of postal codes of Canada: M\". The data is captured in a dataframe and then cleaned by removing all the unnecessary/redundant data. Thus our data was cleaned."
   ]
  },
  {
   "cell_type": "markdown",
   "metadata": {},
   "source": [
    "**Combining different data sets and getting latitude and longitude**\n",
    "\n",
    "We then combined the neighborhood data with postal address dataset  and latitude and longitude and saved it in a different dataframe. The dataframe obtained now contains the following: Postal Code, Borough, Neighborhood, Latitude and Longitude. This dataframe is then used to visualise a folium map."
   ]
  },
  {
   "cell_type": "markdown",
   "metadata": {},
   "source": [
    "**Explore the neighborhoods** \n",
    "\n",
    "We then explore the data i.e. the Neighborhoods and using the Foursquare API, we get the restaurant venues available in Toronto. We filter the venues to get all possible \"Restaurants\"."
   ]
  },
  {
   "cell_type": "markdown",
   "metadata": {},
   "source": [
    "**Clustering**\n",
    "\n",
    "We then use the K-means algorithm. Our assumption is of 5 clusters. We try to come up with clusters having similar set of venues."
   ]
  },
  {
   "cell_type": "markdown",
   "metadata": {},
   "source": [
    "## Results and Discussions"
   ]
  },
  {
   "cell_type": "markdown",
   "metadata": {},
   "source": [
    "Our analysis shows that although there is a great number of restaurants in Toronto, there are pockets of low restaurant density fairly close to city center.We have 4 boroughs and 78 neighborhoods inside geograpical coordinate of 43.6534817, -79.3839347.\n",
    "\n",
    "Based on our initial assumption of the cluster with maximum number of restaurants will have the best possibility to have a new restaurant due to the need in the area. Based on the resultant clusters it looks like Cluster 1 and Cluster 5 have higher number of resturants then rest of the clusters.\n",
    "\n",
    "It is entirely possible that there is a good reason for small number of restaurants in those areas, reasons which would make them unsuitable for a new restaurant regardless of lack of competition in the area. Recommended zones should therefore be considered only as a starting point for more detailed analysis which could eventually result in location which has not only no nearby competition but also other factors taken into account and all other relevant conditions met."
   ]
  },
  {
   "cell_type": "markdown",
   "metadata": {},
   "source": [
    "## Conclusion"
   ]
  },
  {
   "cell_type": "markdown",
   "metadata": {},
   "source": [
    "The main aim of this project was to help new business owners and stakeholders to find an optimal location for opening a new restaurant. By calculating restaurant density distribution from Foursquare data we have first identified general boroughs that justify further analysis, and then generated extensive collection of locations which satisfy some basic requirements regarding existing nearby restaurants. Clustering of those locations was then performed in order to create major zones of interest.\n",
    "\n",
    "Final decision on optimal restaurant location will be made by stakeholders and new business owners based on specific characteristics of neighborhoods and locations in every recommended zone."
   ]
  }
 ],
 "metadata": {
  "kernelspec": {
   "display_name": "Python 3",
   "language": "python",
   "name": "python3"
  },
  "language_info": {
   "codemirror_mode": {
    "name": "ipython",
    "version": 3
   },
   "file_extension": ".py",
   "mimetype": "text/x-python",
   "name": "python",
   "nbconvert_exporter": "python",
   "pygments_lexer": "ipython3",
   "version": "3.7.4"
  }
 },
 "nbformat": 4,
 "nbformat_minor": 2
}
